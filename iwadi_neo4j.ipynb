{
 "cells": [
  {
   "cell_type": "code",
   "execution_count": 8,
   "id": "02d2b823",
   "metadata": {},
   "outputs": [
    {
     "name": "stdout",
     "output_type": "stream",
     "text": [
      "Requirement already satisfied: pandas in c:\\users\\royal computer\\anaconda3\\lib\\site-packages (1.5.3)Note: you may need to restart the kernel to use updated packages.\n",
      "\n",
      "Requirement already satisfied: neo4j in c:\\users\\royal computer\\anaconda3\\lib\\site-packages (5.24.0)\n",
      "Requirement already satisfied: openpyxl in c:\\users\\royal computer\\anaconda3\\lib\\site-packages (3.0.10)\n",
      "Requirement already satisfied: python-dateutil>=2.8.1 in c:\\users\\royal computer\\anaconda3\\lib\\site-packages (from pandas) (2.8.2)\n",
      "Requirement already satisfied: pytz>=2020.1 in c:\\users\\royal computer\\anaconda3\\lib\\site-packages (from pandas) (2022.7)\n",
      "Requirement already satisfied: numpy>=1.21.0 in c:\\users\\royal computer\\anaconda3\\lib\\site-packages (from pandas) (1.24.3)\n",
      "Requirement already satisfied: et_xmlfile in c:\\users\\royal computer\\anaconda3\\lib\\site-packages (from openpyxl) (1.1.0)\n",
      "Requirement already satisfied: six>=1.5 in c:\\users\\royal computer\\anaconda3\\lib\\site-packages (from python-dateutil>=2.8.1->pandas) (1.16.0)\n"
     ]
    }
   ],
   "source": [
    "pip install pandas neo4j openpyxl"
   ]
  },
  {
   "cell_type": "code",
   "execution_count": 14,
   "id": "d2cb6144",
   "metadata": {},
   "outputs": [],
   "source": [
    "import pandas as pd\n",
    "import os\n",
    "from neo4j import GraphDatabase\n",
    "\n",
    "# Dictionnaire pour mapper les colonnes attendues aux colonnes réelles\n",
    "expected_columns = {\n",
    "    'Entité de formation': 'entite_formation',\n",
    "    'Etablissements': 'etablissements',\n",
    "    'Filières de formation': 'filieres_formation',\n",
    "    'Mode d’entrée': 'mode_entree',\n",
    "    'Baccalauréat recommandé': 'bac_recommande',\n",
    "    'Matières': 'matieres',\n",
    "    'Débouchés /Métiers': 'metiers',\n",
    "    'Statut': 'statut'\n",
    "}\n",
    "\n",
    "# Connexion à Neo4j\n",
    "uri = \"bolt://localhost:7687\"\n",
    "username = \"neo4j\"  # Remplacez par votre nom d'utilisateur Neo4j\n",
    "password = \"iwadiiwadi\"  # Remplacez par votre mot de passe Neo4j\n",
    "driver = GraphDatabase.driver(uri, auth=(username, password))\n",
    "\n",
    "# Fonction pour créer les nœuds dans Neo4j\n",
    "def create_graph_from_excel(df):\n",
    "    with driver.session() as session:\n",
    "        for index, row in df.iterrows():\n",
    "            # Vérification que les colonnes existent\n",
    "            entite_formation = row.get(expected_columns['Entité de formation'], \"Non spécifié\")\n",
    "            etablissements = row.get(expected_columns['Etablissements'], \"Non spécifié\")\n",
    "            filieres_formation = row.get(expected_columns['Filières de formation'], \"Non spécifié\")\n",
    "            mode_entree = row.get(expected_columns['Mode d’entrée'], \"Non spécifié\")\n",
    "            bac_recommande = row.get(expected_columns['Baccalauréat recommandé'], \"Non spécifié\")\n",
    "            matieres = row.get(expected_columns['Matières'], \"Non spécifié\")\n",
    "            metiers = row.get(expected_columns['Débouchés /Métiers'], \"Non spécifié\")\n",
    "            statut = row.get(expected_columns['Statut'], \"Non spécifié\")\n",
    "            \n",
    "            # Création des nœuds et relations dans Neo4j\n",
    "            query = \"\"\"\n",
    "            MERGE (e:Entite {nom: $entite_formation})\n",
    "            MERGE (etab:Etablissement {nom: $etablissements, statut: $statut})\n",
    "            MERGE (etab)-[:APPARTIENT_A]->(e)\n",
    "            MERGE (f:Filiere {nom: $filieres_formation, mode_entree: $mode_entree, bac_recommande: $bac_recommande, matieres: $matieres, metiers: $metiers})\n",
    "            MERGE (etab)-[:PROPOSE]->(f)\n",
    "            MERGE (f)-[:A_COMME_DEBOUCHE]->(:Metiers {nom: $metiers})\n",
    "            \"\"\"\n",
    "            # Exécution de la requête pour chaque ligne du DataFrame\n",
    "            session.run(query, entite_formation=entite_formation, etablissements=etablissements, statut=statut, filieres_formation=filieres_formation, \n",
    "                        mode_entree=mode_entree, bac_recommande=bac_recommande, matieres=matieres, metiers=metiers)\n",
    "\n",
    "# Lecture du fichier Excel\n",
    "file_path = \"Extraction.xlsx\"\n",
    "df = pd.read_excel(file_path)\n",
    "df.columns = df.columns.str.strip()  # Supprimer les espaces au début et à la fin des colonnes\n",
    "\n",
    "# Appel de la fonction pour créer les noeuds à partir du dataframe\n",
    "create_graph_from_excel(df)\n",
    "\n",
    "# Fermer la connexion à Neo4j\n",
    "driver.close()"
   ]
  },
  {
   "cell_type": "code",
   "execution_count": null,
   "id": "8968f976",
   "metadata": {},
   "outputs": [],
   "source": []
  }
 ],
 "metadata": {
  "kernelspec": {
   "display_name": "Python 3 (ipykernel)",
   "language": "python",
   "name": "python3"
  },
  "language_info": {
   "codemirror_mode": {
    "name": "ipython",
    "version": 3
   },
   "file_extension": ".py",
   "mimetype": "text/x-python",
   "name": "python",
   "nbconvert_exporter": "python",
   "pygments_lexer": "ipython3",
   "version": "3.11.3"
  }
 },
 "nbformat": 4,
 "nbformat_minor": 5
}
